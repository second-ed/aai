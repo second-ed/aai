{
 "cells": [
  {
   "cell_type": "code",
   "execution_count": null,
   "id": "29ca20c3",
   "metadata": {},
   "outputs": [],
   "source": [
    "# source: None\n",
    "for i in range(10):\n",
    "    print(i)\n"
   ]
  },
  {
   "cell_type": "markdown",
   "id": "84f79377",
   "metadata": {},
   "source": [
    "some things are good"
   ]
  },
  {
   "cell_type": "markdown",
   "id": "6505fdce",
   "metadata": {},
   "source": [
    "\n",
    "\n",
    "## References\n",
    "\n",
    "[1] https://www.youtube.com/watch?v=pcKY4hjDrxk"
   ]
  }
 ],
 "metadata": {},
 "nbformat": 4,
 "nbformat_minor": 5
}
