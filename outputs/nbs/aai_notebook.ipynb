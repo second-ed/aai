{
 "cells": [
  {
   "cell_type": "code",
   "execution_count": null,
   "id": "7b4eb1b6",
   "metadata": {},
   "outputs": [],
   "source": [
    "# source: None\n",
    "for i in range(10):\n",
    "    print(i)\n"
   ]
  },
  {
   "cell_type": "markdown",
   "id": "ae9d0ac2",
   "metadata": {},
   "source": [
    "Some things are good [[1]](https://www.youtube.com/watch?v=pcKY4hjDrxk). "
   ]
  },
  {
   "cell_type": "markdown",
   "id": "2dc4b104",
   "metadata": {},
   "source": [
    "![[]](https://www.simplilearn.com/ice9/free_resources_article_thumb/DFS-Algorithm-Soni/what-is-depth-first-search-algorithm.png) [[2]](https://www.simplilearn.com/tutorials/data-structure-tutorial/dfs-algorithm)\n",
    "\n"
   ]
  },
  {
   "cell_type": "markdown",
   "id": "59e0a623",
   "metadata": {},
   "source": [
    "![[]](https://www.simplilearn.com/ice9/free_resources_article_thumb/BFS-Algorithm-Soni/bredth-first-search-in-graph-data-structure.png) [[3]](https://www.google.com/url?sa=i&url=https%3A%2F%2Fwww.simplilearn.com%2Ftutorials%2Fdata-structure-tutorial%2Fbfs-algorithm&psig=AOvVaw11WRDVg8QvS-oyg9euc2H8&ust=1725479929305000&source=images&cd=vfe&opi=89978449&ved=0CBcQjhxqFwoTCKDe8ePHp4gDFQAAAAAdAAAAABAE)\n",
    "\n"
   ]
  },
  {
   "cell_type": "markdown",
   "id": "1bb0b4a1",
   "metadata": {},
   "source": [
    "\n",
    "\n",
    "## References\n",
    "\n",
    "[1] https://www.youtube.com/watch?v=pcKY4hjDrxk\n",
    "\n",
    "[2] https://www.simplilearn.com/tutorials/data-structure-tutorial/dfs-algorithm\n",
    "\n",
    "[3] https://www.google.com/url?sa=i&url=https%3A%2F%2Fwww.simplilearn.com%2Ftutorials%2Fdata-structure-tutorial%2Fbfs-algorithm&psig=AOvVaw11WRDVg8QvS-oyg9euc2H8&ust=1725479929305000&source=images&cd=vfe&opi=89978449&ved=0CBcQjhxqFwoTCKDe8ePHp4gDFQAAAAAdAAAAABAE"
   ]
  }
 ],
 "metadata": {},
 "nbformat": 4,
 "nbformat_minor": 5
}
