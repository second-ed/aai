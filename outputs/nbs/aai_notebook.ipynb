{
 "cells": [
  {
   "cell_type": "markdown",
   "id": "b722676b",
   "metadata": {},
   "source": [
    "# 1.0.0"
   ]
  },
  {
   "cell_type": "markdown",
   "id": "6642ee54",
   "metadata": {},
   "source": [
    "## LOs:\n",
    "\n",
    "1. Analyse the goals and purpose of artificial intelligence, and distinctions between approaches such as acting rationally and simulating human behaviour. (MLO 4)\n",
    "\n",
    "2. Understand Lady Lovelace’s objection, The Turing Test and the Chinese Room of “whether machines can think?” (MLO 4)\n",
    "\n",
    "3. Articulate the arguments for and against weak AI and strong AI. (MLO 4)\n",
    "\n",
    "4. Identify some of the methods of current AI research and be able to give examples of their application in state-of-the-art AI systems. (MLO 4)\n",
    "\n",
    "5. Identify and critically evaluate the potential threats to society posed from recent development in AI. (MLO 4). "
   ]
  },
  {
   "cell_type": "markdown",
   "id": "31b8026d",
   "metadata": {},
   "source": [
    "# 1.0.1"
   ]
  },
  {
   "cell_type": "markdown",
   "id": "f984d4f0",
   "metadata": {},
   "source": [
    "## Activities: \n",
    "\n",
    "1. Considering the meaning of artificial intelligence, with four proposed definitions of AI, and thinking about how each definition would affect the nature of research in the field;\n",
    "\n",
    "2. Considering some of the philosophical debate around artificial intelligence;\n",
    "\n",
    "3. Reading about state-of-the-art AI systems that are being researched or are under development, and writing a short review of some of the research identified;\n",
    "\n",
    "4. Discussing the research mentioned above in small groups, and answering some questions about them as a group. You will need to consider the ethical and technical aspects of deploying an AI system in the real world. "
   ]
  },
  {
   "cell_type": "markdown",
   "id": "2381d207",
   "metadata": {},
   "source": [
    "# 1.0.3"
   ]
  },
  {
   "cell_type": "markdown",
   "id": "208668e5",
   "metadata": {},
   "source": [
    "## Reading:\n",
    "### Lesson 1\n",
    "\n",
    "- Russell S., Norvig P. (2016) Artificial Intelligence: A Modern Approach, Fourth Edition. Chapter 1, sections 1.1 to 1.2.\n",
    "\n",
    "### Lesson 2\n",
    "\n",
    "- Russell S., Norvig P. (2016) Artificial Intelligence: A Modern Approach, Fourth Edition. Chapter 28, sections 1&2.\n",
    "\n",
    "### Lesson 3\n",
    "\n",
    "- Baibach N. & Hogarth I. (2023) State of AI Report available online from https://www.stateof.ai/\n",
    "\n",
    "### Lesson 4\n",
    "\n",
    "- Russell S., Norvig P. (2016) Artificial Intelligence: A Modern Approach, Fourth Edition Edition. Appendix A, A1.\n",
    "\n",
    "- Russell S., Norvig P. (2016) Artificial Intelligence: A Modern Approach, Fourth Edition. Chapter 28, section 3.\n",
    "\n",
    " \n",
    "\n",
    "### Further reading:\n",
    "\n",
    "- [Will self driving cars reduce energy use and make travel better for the environment?](https://theconversation.com/will-self-driving-cars-reduce-energy-use-and-make-travel-better-for-the-environment-55363)\n",
    "\n",
    "- [The trolley dilemma - would you kill one person to save five?](https://theconversation.com/the-trolley-dilemma-would-you-kill-one-person-to-save-five-57111)\n",
    "\n",
    "- [No need to panic artificial intelligence has yet to create a doomsday machine.](https://theconversation.com/no-need-to-panic-artificial-intelligence-has-yet-to-create-a-doomsday-machine-35148)\n",
    "\n",
    "- [AI and the future of work - 5 experts on what chatgpt, dall e and other ai tools mean for artists and knowledge workers.](https://theconversation.com/ai-and-the-future-of-work-5-experts-on-what-chatgpt-dall-e-and-other-ai-tools-mean-for-artists-and-knowledge-workers-196783)\n",
    "\n",
    "- [What if your colleague is a bot - harnessing the benefits of workplace automation without alienating staff.](https://theconversation.com/what-if-your-colleague-is-a-bot-harnessing-the-benefits-of-workplace-automation-without-alienating-staff-196203)\n",
    ". "
   ]
  },
  {
   "cell_type": "markdown",
   "id": "96fe6e5d",
   "metadata": {},
   "source": [
    "# 1.5.0"
   ]
  },
  {
   "cell_type": "markdown",
   "id": "77537405",
   "metadata": {},
   "source": [
    "## 1.5 What is AI?\n",
    "\n",
    "Intelligence: the power of learning, understanding and reasoning; mental ability\n",
    "\n",
    "Can break these down into functions:\n",
    "- mental functions (the functions of the mind) are functions of:\n",
    "    - inputs (sensory) \n",
    "    - outputs (motor functions)\n",
    "    - these enable us to:\n",
    "        - learn\n",
    "        - record (memory)\n",
    "        - reason (think)\n",
    "        - act (through motor functions)\n",
    "\n",
    "\n",
    "### Common Features:\n",
    "The human brain:\n",
    "- multi sensory input\n",
    "- recall / memory / experience\n",
    "- reasoning / cognitive functions\n",
    "- personality / communication / expression\n",
    "- autonomic functions\n",
    "\n",
    "A computer system:\n",
    "- interface / multiple inputs\n",
    "- memory / storage / code / data\n",
    "- processing / algorithms\n",
    "- interface / multiple outputs\n",
    "- automation\n",
    "\n",
    "\n",
    "### Key Differences\n",
    "Humans are good at:\n",
    "- recognising patterns in unstructured information\n",
    "- solving problems without instructions\n",
    "- making connections, between info across domains\n",
    "- acting and functioning spontaneously or independently\n",
    "\n",
    "\n",
    "Computers are good at:\n",
    "- complex and repetitive calculations accurately\n",
    "- gathering, collating, storing, manipulating, analysing and retrieving data\n",
    "- searching through data\n",
    "- carrying out sequences of instructions \n",
    "\n",
    "\n",
    "### Programmed intelligence\n",
    "- programming a computer to appear intelligent\n",
    "- is just an exptrapolation of the intelligence of the designer\n",
    "- can be thought of the lowest kind of weak AI\n",
    "\n",
    "### AI\n",
    "- thinking humanly\n",
    "    - decision making\n",
    "    - problem solving\n",
    "    - learning\n",
    "- thinking rationally\n",
    "    - with enough data can a computer solve a problem without being programmed to do so\n",
    "- acting humanly\n",
    "    - creating machines that can perform tasks that humans are good at after training\n",
    "    - communicating using natural language\n",
    "    - showing creativity or spontaneity\n",
    "- acting rationally\n",
    "    - controlling vehicles\n",
    "    - conducting searches\n",
    "    - extracting data/information\n",
    "    - logical reasons yielding logical results\n",
    "\n",
    "\n",
    "The debate between rationalists and humanists results in:\n",
    "- flexibility with how we define AI\n",
    "\n",
    "\n",
    "\n",
    "### When is an AI solution of value?\n",
    "- Even though it is often possible to develop algorithms to address problems, some problems do not lend themselves to being solved algorithmically (and in some cases may not be solved at all) or require inefficient, brute-force computation and in these cases AI solutions may be a more efficient or effective alternative.  \n",
    "- Equally, however, there are many problems that can be solved both efficiently and effectively without the need for AI and in those cases an AI solution may in fact be less desirable. "
   ]
  },
  {
   "cell_type": "markdown",
   "id": "67e56775",
   "metadata": {},
   "source": [
    "# 1.7.0"
   ]
  },
  {
   "cell_type": "markdown",
   "id": "0ea7e6ea",
   "metadata": {},
   "source": [
    "## 1.7 Is Artificial Intelligence Possible?\n",
    "\n",
    "### Lady Lovelace’s Objection\n",
    "- Translating to mean computers cannot really think because they can only do what they have been programmed to do\n",
    "\n",
    "### Alan Turing's rebuttal of the Objection\n",
    "- In practice, the results of programming often surprise us. (Lady Lovelace never got to run any of her programs!)\n",
    "- The possibility that machines could be programmed to learn. "
   ]
  },
  {
   "cell_type": "markdown",
   "id": "3021eb25",
   "metadata": {},
   "source": [
    "# 1.7.1"
   ]
  },
  {
   "cell_type": "markdown",
   "id": "02af164d",
   "metadata": {},
   "source": [
    "### The Turing Test\n",
    "- The questioner interrogates the respondents within a specific subject area, using a specified format and context. \n",
    "- After a preset length of time or number of questions, the questioner is then asked to decide which respondent was human and which was a computer. \n",
    "- The test is repeated many times.  [[1]](https://www.techtarget.com/searchenterpriseai/definition/Turing-test). "
   ]
  },
  {
   "cell_type": "markdown",
   "id": "b5518fd8",
   "metadata": {},
   "source": [
    "### Strong and Weak AI\n",
    "- Weak: A machine that acts as if it thinks like a human.\n",
    "- Strong: A machine that thinks like a human. "
   ]
  },
  {
   "cell_type": "markdown",
   "id": "39ac05db",
   "metadata": {},
   "source": [
    "# 1.7.2"
   ]
  },
  {
   "cell_type": "markdown",
   "id": "e06bd09c",
   "metadata": {},
   "source": [
    "### John Searle’s Chinese Room\n",
    "\n",
    "In 1980 John Searle published “The Chinese Room Argument” in journal to demonstrate the difference between weak AI and strong AI:\n",
    "\n",
    "Minor variation:\n",
    "\n",
    "- English-speaking person locked in a room\n",
    "- has no knowledge of Chinese or Russian. \n",
    "- given texts written in Chinese. \n",
    "- Also in the room is a set of rules, written in English, for manipulating the symbols of Chinese text and producing Russian translations.\n",
    "- By carefully and methodically following these rules, the person produces accurate Russian translations of the Chinese text.\n",
    "\n",
    "- Searle argues that the room-plus-person system behaves as if it understands Chinese, while it is obvious that no understanding is involved. \n",
    "- Hence behaviour does not imply the existence of a mind that understands. Or to put it another way, weak AI does not imply strong AI. \n",
    "- Thus, the Turing test is not a valid criterion/method for assessing whether a machine can think. "
   ]
  },
  {
   "cell_type": "markdown",
   "id": "4166f863",
   "metadata": {},
   "source": [
    "# 1.9.0"
   ]
  },
  {
   "cell_type": "markdown",
   "id": "e30b968e",
   "metadata": {},
   "source": [
    "## Evaluating AI Solutions\n",
    "\n",
    "### Non-computable problems\n",
    "when a problem cannot be solved satisfactorily in a finite amount of time\n",
    "- e.g. fully calculating $\\pi$ (Pi)\n",
    "\n",
    "### Termination criteria\n",
    "accepting an incomplete result because it does well enough for our requirements\n",
    "e.g.\n",
    "- stop after $n$ iterations\n",
    "- stop at a specific number of decimal places\n",
    "- stop when the result is in a specific range\n",
    "\n",
    "### Brute Force vs AI\n",
    "apply AI to the solution instead of brute force when:\n",
    "- an AI solution is faster\n",
    "- a problem doesn't lend itself to a mathematical solution\n",
    "- a problem doesn't lend itself to a logical solution\n",
    "\n",
    "### Evaluating Effectiveness\n",
    "Use an AI solution over a current one when the AI solution is:\n",
    "- at least as effective and more efficient\n",
    "- more effective and at least as efficient \n",
    "- more effective and more efficient \n",
    "\n",
    "- evaluate this with:\n",
    "    - accuracy\n",
    "    - noise\n",
    "    - loss\n",
    "    - overfitting/underfitting\n",
    "    - generalisability\n",
    "    - efficiency: how long it take \n",
    "\n",
    "#### Simple Problem Efficiency\n",
    "- Solutions scale linearly with problem size.\n",
    "- Example: Time t for one item, t*n for n items.\n",
    "\n",
    "#### Complex Problem Efficiency\n",
    "- Solutions do not scale linearly; involve polynomial time.\n",
    "- Consider non-deterministic polynomial time for predictions.\n",
    "\n",
    "#### Finite Time Considerations\n",
    "- Solutions should achieve satisfactory results within measurable time.\n",
    "- Early termination can still yield verifiable outcomes.\n",
    "\n",
    "#### NP-Complete Problems\n",
    "- Solvable by brute force; solutions quickly verifiable.\n",
    "- Heuristic AI approaches can efficiently return results.\n",
    "\n",
    "#### Polynomial Time\n",
    "- Time taken by general-purpose computers for complex problem solutions.\n",
    "- Relevant for evaluating AI solution feasibility.\n",
    "\n",
    "#### Heuristic Approaches in AI\n",
    "- Provide quick results for NP-complete problems.\n",
    "- Enhance AI effectiveness in complex scenarios.\n",
    "\n",
    "#### Scalability of Solutions\n",
    "- Important for both simple and complex problem-solving.\n",
    "- Ensures solutions remain effective as problem size increases.\n",
    "\n",
    "#### Reliability of AI Solutions\n",
    "- AI can reliably solve non-computable problems satisfactorily.\n",
    "- Enhances overall problem-solving capabilities beyond traditional methods.\n",
    "\n",
    "#### Iterative Refinement\n",
    "- Solutions may improve through multiple iterations.\n",
    "- Important for achieving satisfactory outcomes in finite time.\n",
    "\n",
    "#### Verification of Solutions\n",
    "- Ensures results are accurate and meet criteria.\n",
    "- Critical for validating AI and computational methods.\n",
    "\n",
    "#### Resource Allocation\n",
    "- Efficient use of computational resources is essential.\n",
    "- Balances speed and accuracy in solution development.\n",
    "\n",
    "#### AI vs Traditional Methods\n",
    "- AI offers intuitive approaches that can be faster and more efficient.\n",
    "- Traditional methods may require extensive computational steps.\n",
    "\n",
    "#### Solution Metrics\n",
    "- Use specific metrics to evaluate effectiveness and efficiency.\n",
    "- Important for training and validating AI models. "
   ]
  },
  {
   "cell_type": "markdown",
   "id": "6ac8935c",
   "metadata": {},
   "source": [
    "# 1.9.1"
   ]
  },
  {
   "cell_type": "markdown",
   "id": "6dd65d2e",
   "metadata": {},
   "source": [
    "## Evaluating AI Solutions\n",
    "\n",
    "1. Redundancy:\n",
    "    - where an AI system is in place would it make human operators/agents redundant and potentially result in job losses?\n",
    "2. Transparency:\n",
    "    - should people be informed when a decision is entrusted to an AI solution or an AI solution has been used to create an artefact?\n",
    "3. Reliability:\n",
    "    - where an AI solution is used, how reliable is it and what options are available if it should fail?\n",
    "4. Safety:\n",
    "    - what measures may be needed to ensure safety when developing AI-driven automated systems?\n",
    "5. Quality:\n",
    "    - can an AI solution assure quality in its outputs comparable to or exceeding that of more traditional approaches?\n",
    "6. Efficiency: \n",
    "    - how efficient is an AI solution compared to more traditional approaches in terms of, for example, environmental impact?\n",
    "7. Justification: \n",
    "    - e.g. can the cost of designing, developing and implementing an AI solution to a given problem be justified?. "
   ]
  },
  {
   "cell_type": "markdown",
   "id": "be94eb0f",
   "metadata": {},
   "source": [
    "# 2.2.1"
   ]
  },
  {
   "cell_type": "markdown",
   "id": "385208b2",
   "metadata": {},
   "source": [
    "![[]](https://media.geeksforgeeks.org/wp-content/uploads/20240219134945/bfs-vs-dfs-(1).png) [[2]](https://www.geeksforgeeks.org/difference-between-bfs-and-dfs/)\n",
    "\n"
   ]
  },
  {
   "cell_type": "markdown",
   "id": "3fc200f9",
   "metadata": {},
   "source": [
    "\n",
    "\n",
    "## References\n",
    "\n",
    "[1] https://www.techtarget.com/searchenterpriseai/definition/Turing-test\n",
    "\n",
    "[2] https://www.geeksforgeeks.org/difference-between-bfs-and-dfs/"
   ]
  }
 ],
 "metadata": {},
 "nbformat": 4,
 "nbformat_minor": 5
}
